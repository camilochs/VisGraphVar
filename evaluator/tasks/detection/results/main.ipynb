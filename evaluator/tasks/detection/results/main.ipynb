{
 "cells": [
  {
   "cell_type": "code",
   "execution_count": 18,
   "metadata": {},
   "outputs": [
    {
     "name": "stdout",
     "output_type": "stream",
     "text": [
      "Comparación por Layout:\n",
      "prompt_strategy                          cot  zeroshot  diff  mean_similarity\n",
      "model                         layout                                         \n",
      "claude-3.5-sonnet             spectral  0.71      0.74 -0.03             0.72\n",
      "                              kamada    0.86      0.87 -0.01             0.86\n",
      "                              spring    0.87      0.88 -0.01             0.88\n",
      "                              shell     0.93      0.89  0.04             0.91\n",
      "                              circular  0.91      0.92 -0.01             0.92\n",
      "                              spiral    0.93      0.94 -0.01             0.94\n",
      "                              random    0.96      0.97 -0.01             0.96\n",
      "gemini-pro-1.5                spectral  0.72      0.72  0.00             0.72\n",
      "                              spring    0.92      0.93 -0.01             0.92\n",
      "                              kamada    0.93      0.93  0.00             0.93\n",
      "                              circular  0.93      0.95 -0.02             0.94\n",
      "                              shell     0.94      0.95 -0.01             0.94\n",
      "                              spiral    0.94      0.94  0.00             0.94\n",
      "                              random    0.96      0.94  0.02             0.95\n",
      "gpt-4o-2024-08-06             spectral  0.77      0.82 -0.05             0.80\n",
      "                              circular  0.87      0.77  0.10             0.82\n",
      "                              spiral    0.88      0.77  0.11             0.82\n",
      "                              shell     0.84      0.82  0.02             0.83\n",
      "                              random    0.84      0.86 -0.02             0.85\n",
      "                              kamada    0.90      0.94 -0.04             0.92\n",
      "                              spring    0.93      0.92  0.01             0.92\n",
      "llama-3.2-90b-vision-instruct spectral  0.61      0.73 -0.12             0.67\n",
      "                              spring    0.65      0.70 -0.05             0.68\n",
      "                              random    0.66      0.74 -0.08             0.70\n",
      "                              kamada    0.62      0.82 -0.20             0.72\n",
      "                              spiral    0.89      0.78  0.11             0.84\n",
      "                              circular  0.88      0.86  0.02             0.87\n",
      "                              shell     0.90      0.92 -0.02             0.91\n",
      "pixtral-12b                   spectral  0.71      0.72 -0.01             0.72\n",
      "                              shell     0.65      0.86 -0.21             0.76\n",
      "                              circular  0.76      0.86 -0.10             0.81\n",
      "                              spring    0.80      0.89 -0.09             0.84\n",
      "                              kamada    0.88      0.84  0.04             0.86\n",
      "                              spiral    0.86      0.86  0.00             0.86\n",
      "                              random    0.87      0.88 -0.01             0.88\n",
      "qwen-2-vl-72b-instruct        spiral    0.50      0.75 -0.25             0.62\n",
      "                              spectral  0.80      0.78  0.02             0.79\n",
      "                              circular  0.81      0.79  0.02             0.80\n",
      "                              shell     0.82      0.81  0.01             0.82\n",
      "                              kamada    0.87      0.87  0.00             0.87\n",
      "                              spring    0.85      0.89 -0.04             0.87\n",
      "                              random    0.86      0.89 -0.03             0.88\n",
      "\n",
      "Comparación por Tipo de Flecha:\n",
      "prompt_strategy                            cot  zeroshot  diff  \\\n",
      "model                         type_arrow                         \n",
      "claude-3.5-sonnet             undirected  0.94      0.91  0.03   \n",
      "                              directed    0.93      0.94 -0.01   \n",
      "gemini-pro-1.5                undirected  0.95      0.91  0.04   \n",
      "                              directed    0.94      0.94  0.00   \n",
      "gpt-4o-2024-08-06             directed    0.88      0.77  0.11   \n",
      "                              undirected  0.89      0.81  0.08   \n",
      "llama-3.2-90b-vision-instruct directed    0.89      0.78  0.11   \n",
      "                              undirected  0.84      0.90 -0.06   \n",
      "pixtral-12b                   undirected  0.81      0.85 -0.04   \n",
      "                              directed    0.86      0.86  0.00   \n",
      "qwen-2-vl-72b-instruct        directed    0.50      0.75 -0.25   \n",
      "                              undirected  0.69      0.68  0.01   \n",
      "\n",
      "prompt_strategy                           mean_similarity  \n",
      "model                         type_arrow                   \n",
      "claude-3.5-sonnet             undirected             0.92  \n",
      "                              directed               0.94  \n",
      "gemini-pro-1.5                undirected             0.93  \n",
      "                              directed               0.94  \n",
      "gpt-4o-2024-08-06             directed               0.82  \n",
      "                              undirected             0.85  \n",
      "llama-3.2-90b-vision-instruct directed               0.84  \n",
      "                              undirected             0.87  \n",
      "pixtral-12b                   undirected             0.83  \n",
      "                              directed               0.86  \n",
      "qwen-2-vl-72b-instruct        directed               0.62  \n",
      "                              undirected             0.68  \n",
      "\n",
      "Comparación por Tipo de Label:\n",
      "prompt_strategy                            cot  zeroshot  diff  \\\n",
      "model                         type_label                         \n",
      "claude-3.5-sonnet             label       0.95      0.92  0.03   \n",
      "                              unlabel     0.93      0.94 -0.01   \n",
      "gemini-pro-1.5                label       0.94      0.93  0.01   \n",
      "                              unlabel     0.94      0.94  0.00   \n",
      "gpt-4o-2024-08-06             unlabel     0.88      0.77  0.11   \n",
      "                              label       0.92      0.91  0.01   \n",
      "llama-3.2-90b-vision-instruct unlabel     0.89      0.78  0.11   \n",
      "                              label       0.86      0.92 -0.06   \n",
      "pixtral-12b                   unlabel     0.86      0.86  0.00   \n",
      "                              label       0.90      0.90  0.00   \n",
      "qwen-2-vl-72b-instruct        unlabel     0.50      0.75 -0.25   \n",
      "                              label       0.96      0.83  0.13   \n",
      "\n",
      "prompt_strategy                           mean_similarity  \n",
      "model                         type_label                   \n",
      "claude-3.5-sonnet             label                  0.94  \n",
      "                              unlabel                0.94  \n",
      "gemini-pro-1.5                label                  0.94  \n",
      "                              unlabel                0.94  \n",
      "gpt-4o-2024-08-06             unlabel                0.82  \n",
      "                              label                  0.92  \n",
      "llama-3.2-90b-vision-instruct unlabel                0.84  \n",
      "                              label                  0.89  \n",
      "pixtral-12b                   unlabel                0.86  \n",
      "                              label                  0.90  \n",
      "qwen-2-vl-72b-instruct        unlabel                0.62  \n",
      "                              label                  0.90  \n",
      "\n",
      "Comparación por Color:\n",
      "prompt_strategy                                cot  zeroshot  diff  \\\n",
      "model                         type_color                             \n",
      "claude-3.5-sonnet             random_color    0.93      0.94 -0.01   \n",
      "                              constant_color  0.96      0.96  0.00   \n",
      "gemini-pro-1.5                random_color    0.94      0.94  0.00   \n",
      "                              constant_color  0.94      0.96 -0.02   \n",
      "gpt-4o-2024-08-06             random_color    0.88      0.77  0.11   \n",
      "                              constant_color  0.93      0.89  0.04   \n",
      "llama-3.2-90b-vision-instruct constant_color  0.46      0.92 -0.46   \n",
      "                              random_color    0.89      0.78  0.11   \n",
      "pixtral-12b                   random_color    0.86      0.86  0.00   \n",
      "                              constant_color  0.89      0.89  0.00   \n",
      "qwen-2-vl-72b-instruct        random_color    0.50      0.75 -0.25   \n",
      "                              constant_color  0.83      0.86 -0.03   \n",
      "\n",
      "prompt_strategy                               mean_similarity  \n",
      "model                         type_color                       \n",
      "claude-3.5-sonnet             random_color               0.94  \n",
      "                              constant_color             0.96  \n",
      "gemini-pro-1.5                random_color               0.94  \n",
      "                              constant_color             0.95  \n",
      "gpt-4o-2024-08-06             random_color               0.82  \n",
      "                              constant_color             0.91  \n",
      "llama-3.2-90b-vision-instruct constant_color             0.69  \n",
      "                              random_color               0.84  \n",
      "pixtral-12b                   random_color               0.86  \n",
      "                              constant_color             0.89  \n",
      "qwen-2-vl-72b-instruct        random_color               0.62  \n",
      "                              constant_color             0.84  \n"
     ]
    }
   ],
   "source": [
    "import pandas as pd\n",
    "\n",
    "# Leer el CSV\n",
    "df = pd.read_csv('scores.csv')\n",
    "\n",
    "# Función para crear y guardar una tabla pivote para cada característica\n",
    "def create_and_save_comparison(df, feature_name):\n",
    "    pivot = df.pivot_table(\n",
    "        index=['model', feature_name],\n",
    "        columns='prompt_strategy',\n",
    "        values='mean_similarity',\n",
    "        aggfunc='first'\n",
    "    ).round(2)\n",
    "    \n",
    "    pivot['diff'] = (pivot['cot'] - pivot['zeroshot']).round(2)\n",
    "    pivot['mean_similarity'] = pivot[['cot', 'zeroshot']].mean(axis=1).round(2)\n",
    "    \n",
    "    # Ordenar por modelo y promedio\n",
    "    pivot = pivot.sort_values(['model', 'mean_similarity'])\n",
    "    \n",
    "    # Guardar a CSV\n",
    "    filename = f'comparacion_por_mean_similarity_{feature_name}.csv'\n",
    "    pivot.to_csv(filename)\n",
    "    \n",
    "    return pivot\n",
    "\n",
    "# Crear un CSV para cada característica\n",
    "layout_comparison = create_and_save_comparison(df, 'layout')\n",
    "arrow_comparison = create_and_save_comparison(df, 'type_arrow')\n",
    "label_comparison = create_and_save_comparison(df, 'type_label')\n",
    "color_comparison = create_and_save_comparison(df, 'type_color')\n",
    "\n",
    "# Mostrar las tablas\n",
    "print(\"Comparación por Layout:\")\n",
    "print(layout_comparison)\n",
    "print(\"\\nComparación por Tipo de Flecha:\")\n",
    "print(arrow_comparison)\n",
    "print(\"\\nComparación por Tipo de Label:\")\n",
    "print(label_comparison)\n",
    "print(\"\\nComparación por Color:\")\n",
    "print(color_comparison)"
   ]
  },
  {
   "cell_type": "code",
   "execution_count": 17,
   "metadata": {},
   "outputs": [
    {
     "name": "stdout",
     "output_type": "stream",
     "text": [
      "layout                         circular  kamada  random  shell  spectral  \\\n",
      "model                                                                      \n",
      "claude-3.5-sonnet                  0.91    0.86    0.96   0.93      0.71   \n",
      "gemini-pro-1.5                     0.93    0.93    0.96   0.94      0.72   \n",
      "gpt-4o-2024-08-06                  0.87    0.90    0.84   0.84      0.77   \n",
      "llama-3.2-90b-vision-instruct      0.88    0.62    0.66   0.90      0.61   \n",
      "pixtral-12b                        0.76    0.88    0.87   0.65      0.71   \n",
      "qwen-2-vl-72b-instruct             0.81    0.87    0.86   0.82      0.80   \n",
      "\n",
      "layout                         spiral  spring  \n",
      "model                                          \n",
      "claude-3.5-sonnet                0.93    0.87  \n",
      "gemini-pro-1.5                   0.94    0.92  \n",
      "gpt-4o-2024-08-06                0.88    0.93  \n",
      "llama-3.2-90b-vision-instruct    0.89    0.65  \n",
      "pixtral-12b                      0.86    0.80  \n",
      "qwen-2-vl-72b-instruct           0.50    0.85  \n",
      "                               spectral_cot  spectral_zeroshot  kamada_cot  \\\n",
      "model                                                                        \n",
      "claude-3.5-sonnet                      0.71               0.74        0.86   \n",
      "gemini-pro-1.5                         0.72               0.72        0.93   \n",
      "gpt-4o-2024-08-06                      0.77               0.82        0.90   \n",
      "llama-3.2-90b-vision-instruct          0.61               0.73        0.62   \n",
      "pixtral-12b                            0.71               0.72        0.88   \n",
      "qwen-2-vl-72b-instruct                 0.80               0.78        0.87   \n",
      "\n",
      "                               kamada_zeroshot  spring_cot  spring_zeroshot  \\\n",
      "model                                                                         \n",
      "claude-3.5-sonnet                         0.87        0.87             0.88   \n",
      "gemini-pro-1.5                            0.93        0.92             0.93   \n",
      "gpt-4o-2024-08-06                         0.94        0.93             0.92   \n",
      "llama-3.2-90b-vision-instruct             0.82        0.65             0.70   \n",
      "pixtral-12b                               0.84        0.80             0.89   \n",
      "qwen-2-vl-72b-instruct                    0.87        0.85             0.89   \n",
      "\n",
      "                               shell_cot  shell_zeroshot  circular_cot  \\\n",
      "model                                                                    \n",
      "claude-3.5-sonnet                   0.93            0.89          0.91   \n",
      "gemini-pro-1.5                      0.94            0.95          0.93   \n",
      "gpt-4o-2024-08-06                   0.84            0.82          0.87   \n",
      "llama-3.2-90b-vision-instruct       0.90            0.92          0.88   \n",
      "pixtral-12b                         0.65            0.86          0.76   \n",
      "qwen-2-vl-72b-instruct              0.82            0.81          0.81   \n",
      "\n",
      "                               circular_zeroshot  spiral_cot  spiral_zeroshot  \\\n",
      "model                                                                           \n",
      "claude-3.5-sonnet                           0.92        0.93             0.94   \n",
      "gemini-pro-1.5                              0.95        0.94             0.94   \n",
      "gpt-4o-2024-08-06                           0.77        0.88             0.77   \n",
      "llama-3.2-90b-vision-instruct               0.86        0.89             0.78   \n",
      "pixtral-12b                                 0.86        0.86             0.86   \n",
      "qwen-2-vl-72b-instruct                      0.79        0.50             0.75   \n",
      "\n",
      "                               random_cot  random_zeroshot  \n",
      "model                                                       \n",
      "claude-3.5-sonnet                    0.96             0.97  \n",
      "gemini-pro-1.5                       0.96             0.94  \n",
      "gpt-4o-2024-08-06                    0.84             0.86  \n",
      "llama-3.2-90b-vision-instruct        0.66             0.74  \n",
      "pixtral-12b                          0.87             0.88  \n",
      "qwen-2-vl-72b-instruct               0.86             0.89  \n"
     ]
    }
   ],
   "source": [
    "import pandas as pd\n",
    "\n",
    "# Leer el CSV\n",
    "df = pd.read_csv('comparacion_por_layout.csv')\n",
    "\n",
    "# Crear una tabla pivote para COT\n",
    "cot_table = df.pivot(\n",
    "    index='model',\n",
    "    columns='layout',\n",
    "    values='cot'\n",
    ").round(2)\n",
    "print(cot_table)\n",
    "# Crear una tabla pivote para zeroshot\n",
    "zeroshot_table = df.pivot(\n",
    "    index='model',\n",
    "    columns='layout',\n",
    "    values='zeroshot'\n",
    ").round(2)\n",
    "\n",
    "# Añadir sufijo a las columnas para distinguir entre COT y zeroshot\n",
    "cot_table.columns = [f'{col}_cot' for col in cot_table.columns]\n",
    "zeroshot_table.columns = [f'{col}_zeroshot' for col in zeroshot_table.columns]\n",
    "\n",
    "# Combinar las dos tablas\n",
    "final_table = pd.concat([cot_table, zeroshot_table], axis=1)\n",
    "\n",
    "# Ordenar las columnas para que COT y zeroshot de cada layout estén juntos\n",
    "all_layouts = df['layout'].unique()\n",
    "ordered_columns = []\n",
    "for layout in all_layouts:\n",
    "    ordered_columns.extend([f'{layout}_cot', f'{layout}_zeroshot'])\n",
    "\n",
    "final_table = final_table[ordered_columns]\n",
    "\n",
    "# Guardar en CSV\n",
    "final_table.to_csv('layout_comparison_final.csv')\n",
    "\n",
    "print(final_table)"
   ]
  },
  {
   "cell_type": "code",
   "execution_count": 15,
   "metadata": {},
   "outputs": [
    {
     "data": {
      "application/vnd.plotly.v1+json": {
       "config": {
        "plotlyServerURL": "https://plot.ly"
       },
       "data": [
        {
         "line": {
          "color": "rgba(255, 0, 0, 0.5)",
          "shape": "spline",
          "smoothing": 0,
          "width": 6
         },
         "marker": {
          "color": "#3b3b3b",
          "size": 15,
          "symbol": "circle"
         },
         "name": "claude-3.5-sonnet",
         "opacity": 0.9,
         "r": [
          0.92,
          0.86,
          0.96,
          0.91,
          0.72,
          0.94,
          0.88,
          0.92
         ],
         "theta": [
          "circular",
          "kamada",
          "random",
          "shell",
          "spectral",
          "spiral",
          "spring",
          "circular"
         ],
         "type": "scatterpolar"
        },
        {
         "line": {
          "color": "rgba(0, 255, 0, 0.5)",
          "shape": "spline",
          "smoothing": 0,
          "width": 6
         },
         "marker": {
          "color": "#3b3b3b",
          "size": 15,
          "symbol": "square"
         },
         "name": "gemini-pro-1.5",
         "opacity": 0.9,
         "r": [
          0.94,
          0.93,
          0.95,
          0.94,
          0.72,
          0.94,
          0.92,
          0.94
         ],
         "theta": [
          "circular",
          "kamada",
          "random",
          "shell",
          "spectral",
          "spiral",
          "spring",
          "circular"
         ],
         "type": "scatterpolar"
        },
        {
         "line": {
          "color": "rgba(0, 0, 255, 0.5)",
          "shape": "spline",
          "smoothing": 0,
          "width": 6
         },
         "marker": {
          "color": "#3b3b3b",
          "size": 15,
          "symbol": "star"
         },
         "name": "gpt-4o-2024-08-06",
         "opacity": 0.9,
         "r": [
          0.82,
          0.92,
          0.85,
          0.83,
          0.8,
          0.82,
          0.92,
          0.82
         ],
         "theta": [
          "circular",
          "kamada",
          "random",
          "shell",
          "spectral",
          "spiral",
          "spring",
          "circular"
         ],
         "type": "scatterpolar"
        },
        {
         "line": {
          "color": "#f1c40f",
          "shape": "spline",
          "smoothing": 0,
          "width": 6
         },
         "marker": {
          "color": "#3b3b3b",
          "size": 15,
          "symbol": "pentagon"
         },
         "name": "llama-3.2-90b-vision-instruct",
         "opacity": 0.9,
         "r": [
          0.87,
          0.72,
          0.7,
          0.91,
          0.67,
          0.84,
          0.68,
          0.87
         ],
         "theta": [
          "circular",
          "kamada",
          "random",
          "shell",
          "spectral",
          "spiral",
          "spring",
          "circular"
         ],
         "type": "scatterpolar"
        },
        {
         "line": {
          "color": "rgba(255, 0, 255, 0.5)",
          "shape": "spline",
          "smoothing": 0,
          "width": 6
         },
         "marker": {
          "color": "#3b3b3b",
          "size": 15,
          "symbol": "x"
         },
         "name": "pixtral-12b",
         "opacity": 0.9,
         "r": [
          0.81,
          0.86,
          0.88,
          0.76,
          0.72,
          0.86,
          0.84,
          0.81
         ],
         "theta": [
          "circular",
          "kamada",
          "random",
          "shell",
          "spectral",
          "spiral",
          "spring",
          "circular"
         ],
         "type": "scatterpolar"
        },
        {
         "line": {
          "color": "rgba(0, 255, 255, 0.5)",
          "shape": "spline",
          "smoothing": 0,
          "width": 6
         },
         "marker": {
          "color": "#3b3b3b",
          "size": 15,
          "symbol": "star-triangle-up"
         },
         "name": "qwen-2-vl-72b-instruct",
         "opacity": 0.9,
         "r": [
          0.8,
          0.87,
          0.88,
          0.82,
          0.79,
          0.62,
          0.87,
          0.8
         ],
         "theta": [
          "circular",
          "kamada",
          "random",
          "shell",
          "spectral",
          "spiral",
          "spring",
          "circular"
         ],
         "type": "scatterpolar"
        }
       ],
       "layout": {
        "legend": {
         "font": {
          "size": 24
         }
        },
        "polar": {
         "angularaxis": {
          "gridcolor": "gray",
          "griddash": "solid",
          "gridwidth": 2,
          "tickfont": {
           "size": 27
          }
         },
         "bgcolor": "white",
         "radialaxis": {
          "dtick": 0.05,
          "gridcolor": "gray",
          "griddash": "solid",
          "gridwidth": 2,
          "range": [
           0.62,
           1
          ],
          "tickfont": {
           "size": 24
          }
         }
        },
        "template": {
         "data": {
          "bar": [
           {
            "error_x": {
             "color": "#2a3f5f"
            },
            "error_y": {
             "color": "#2a3f5f"
            },
            "marker": {
             "line": {
              "color": "#E5ECF6",
              "width": 0.5
             },
             "pattern": {
              "fillmode": "overlay",
              "size": 10,
              "solidity": 0.2
             }
            },
            "type": "bar"
           }
          ],
          "barpolar": [
           {
            "marker": {
             "line": {
              "color": "#E5ECF6",
              "width": 0.5
             },
             "pattern": {
              "fillmode": "overlay",
              "size": 10,
              "solidity": 0.2
             }
            },
            "type": "barpolar"
           }
          ],
          "carpet": [
           {
            "aaxis": {
             "endlinecolor": "#2a3f5f",
             "gridcolor": "white",
             "linecolor": "white",
             "minorgridcolor": "white",
             "startlinecolor": "#2a3f5f"
            },
            "baxis": {
             "endlinecolor": "#2a3f5f",
             "gridcolor": "white",
             "linecolor": "white",
             "minorgridcolor": "white",
             "startlinecolor": "#2a3f5f"
            },
            "type": "carpet"
           }
          ],
          "choropleth": [
           {
            "colorbar": {
             "outlinewidth": 0,
             "ticks": ""
            },
            "type": "choropleth"
           }
          ],
          "contour": [
           {
            "colorbar": {
             "outlinewidth": 0,
             "ticks": ""
            },
            "colorscale": [
             [
              0,
              "#0d0887"
             ],
             [
              0.1111111111111111,
              "#46039f"
             ],
             [
              0.2222222222222222,
              "#7201a8"
             ],
             [
              0.3333333333333333,
              "#9c179e"
             ],
             [
              0.4444444444444444,
              "#bd3786"
             ],
             [
              0.5555555555555556,
              "#d8576b"
             ],
             [
              0.6666666666666666,
              "#ed7953"
             ],
             [
              0.7777777777777778,
              "#fb9f3a"
             ],
             [
              0.8888888888888888,
              "#fdca26"
             ],
             [
              1,
              "#f0f921"
             ]
            ],
            "type": "contour"
           }
          ],
          "contourcarpet": [
           {
            "colorbar": {
             "outlinewidth": 0,
             "ticks": ""
            },
            "type": "contourcarpet"
           }
          ],
          "heatmap": [
           {
            "colorbar": {
             "outlinewidth": 0,
             "ticks": ""
            },
            "colorscale": [
             [
              0,
              "#0d0887"
             ],
             [
              0.1111111111111111,
              "#46039f"
             ],
             [
              0.2222222222222222,
              "#7201a8"
             ],
             [
              0.3333333333333333,
              "#9c179e"
             ],
             [
              0.4444444444444444,
              "#bd3786"
             ],
             [
              0.5555555555555556,
              "#d8576b"
             ],
             [
              0.6666666666666666,
              "#ed7953"
             ],
             [
              0.7777777777777778,
              "#fb9f3a"
             ],
             [
              0.8888888888888888,
              "#fdca26"
             ],
             [
              1,
              "#f0f921"
             ]
            ],
            "type": "heatmap"
           }
          ],
          "heatmapgl": [
           {
            "colorbar": {
             "outlinewidth": 0,
             "ticks": ""
            },
            "colorscale": [
             [
              0,
              "#0d0887"
             ],
             [
              0.1111111111111111,
              "#46039f"
             ],
             [
              0.2222222222222222,
              "#7201a8"
             ],
             [
              0.3333333333333333,
              "#9c179e"
             ],
             [
              0.4444444444444444,
              "#bd3786"
             ],
             [
              0.5555555555555556,
              "#d8576b"
             ],
             [
              0.6666666666666666,
              "#ed7953"
             ],
             [
              0.7777777777777778,
              "#fb9f3a"
             ],
             [
              0.8888888888888888,
              "#fdca26"
             ],
             [
              1,
              "#f0f921"
             ]
            ],
            "type": "heatmapgl"
           }
          ],
          "histogram": [
           {
            "marker": {
             "pattern": {
              "fillmode": "overlay",
              "size": 10,
              "solidity": 0.2
             }
            },
            "type": "histogram"
           }
          ],
          "histogram2d": [
           {
            "colorbar": {
             "outlinewidth": 0,
             "ticks": ""
            },
            "colorscale": [
             [
              0,
              "#0d0887"
             ],
             [
              0.1111111111111111,
              "#46039f"
             ],
             [
              0.2222222222222222,
              "#7201a8"
             ],
             [
              0.3333333333333333,
              "#9c179e"
             ],
             [
              0.4444444444444444,
              "#bd3786"
             ],
             [
              0.5555555555555556,
              "#d8576b"
             ],
             [
              0.6666666666666666,
              "#ed7953"
             ],
             [
              0.7777777777777778,
              "#fb9f3a"
             ],
             [
              0.8888888888888888,
              "#fdca26"
             ],
             [
              1,
              "#f0f921"
             ]
            ],
            "type": "histogram2d"
           }
          ],
          "histogram2dcontour": [
           {
            "colorbar": {
             "outlinewidth": 0,
             "ticks": ""
            },
            "colorscale": [
             [
              0,
              "#0d0887"
             ],
             [
              0.1111111111111111,
              "#46039f"
             ],
             [
              0.2222222222222222,
              "#7201a8"
             ],
             [
              0.3333333333333333,
              "#9c179e"
             ],
             [
              0.4444444444444444,
              "#bd3786"
             ],
             [
              0.5555555555555556,
              "#d8576b"
             ],
             [
              0.6666666666666666,
              "#ed7953"
             ],
             [
              0.7777777777777778,
              "#fb9f3a"
             ],
             [
              0.8888888888888888,
              "#fdca26"
             ],
             [
              1,
              "#f0f921"
             ]
            ],
            "type": "histogram2dcontour"
           }
          ],
          "mesh3d": [
           {
            "colorbar": {
             "outlinewidth": 0,
             "ticks": ""
            },
            "type": "mesh3d"
           }
          ],
          "parcoords": [
           {
            "line": {
             "colorbar": {
              "outlinewidth": 0,
              "ticks": ""
             }
            },
            "type": "parcoords"
           }
          ],
          "pie": [
           {
            "automargin": true,
            "type": "pie"
           }
          ],
          "scatter": [
           {
            "fillpattern": {
             "fillmode": "overlay",
             "size": 10,
             "solidity": 0.2
            },
            "type": "scatter"
           }
          ],
          "scatter3d": [
           {
            "line": {
             "colorbar": {
              "outlinewidth": 0,
              "ticks": ""
             }
            },
            "marker": {
             "colorbar": {
              "outlinewidth": 0,
              "ticks": ""
             }
            },
            "type": "scatter3d"
           }
          ],
          "scattercarpet": [
           {
            "marker": {
             "colorbar": {
              "outlinewidth": 0,
              "ticks": ""
             }
            },
            "type": "scattercarpet"
           }
          ],
          "scattergeo": [
           {
            "marker": {
             "colorbar": {
              "outlinewidth": 0,
              "ticks": ""
             }
            },
            "type": "scattergeo"
           }
          ],
          "scattergl": [
           {
            "marker": {
             "colorbar": {
              "outlinewidth": 0,
              "ticks": ""
             }
            },
            "type": "scattergl"
           }
          ],
          "scattermapbox": [
           {
            "marker": {
             "colorbar": {
              "outlinewidth": 0,
              "ticks": ""
             }
            },
            "type": "scattermapbox"
           }
          ],
          "scatterpolar": [
           {
            "marker": {
             "colorbar": {
              "outlinewidth": 0,
              "ticks": ""
             }
            },
            "type": "scatterpolar"
           }
          ],
          "scatterpolargl": [
           {
            "marker": {
             "colorbar": {
              "outlinewidth": 0,
              "ticks": ""
             }
            },
            "type": "scatterpolargl"
           }
          ],
          "scatterternary": [
           {
            "marker": {
             "colorbar": {
              "outlinewidth": 0,
              "ticks": ""
             }
            },
            "type": "scatterternary"
           }
          ],
          "surface": [
           {
            "colorbar": {
             "outlinewidth": 0,
             "ticks": ""
            },
            "colorscale": [
             [
              0,
              "#0d0887"
             ],
             [
              0.1111111111111111,
              "#46039f"
             ],
             [
              0.2222222222222222,
              "#7201a8"
             ],
             [
              0.3333333333333333,
              "#9c179e"
             ],
             [
              0.4444444444444444,
              "#bd3786"
             ],
             [
              0.5555555555555556,
              "#d8576b"
             ],
             [
              0.6666666666666666,
              "#ed7953"
             ],
             [
              0.7777777777777778,
              "#fb9f3a"
             ],
             [
              0.8888888888888888,
              "#fdca26"
             ],
             [
              1,
              "#f0f921"
             ]
            ],
            "type": "surface"
           }
          ],
          "table": [
           {
            "cells": {
             "fill": {
              "color": "#EBF0F8"
             },
             "line": {
              "color": "white"
             }
            },
            "header": {
             "fill": {
              "color": "#C8D4E3"
             },
             "line": {
              "color": "white"
             }
            },
            "type": "table"
           }
          ]
         },
         "layout": {
          "annotationdefaults": {
           "arrowcolor": "#2a3f5f",
           "arrowhead": 0,
           "arrowwidth": 1
          },
          "autotypenumbers": "strict",
          "coloraxis": {
           "colorbar": {
            "outlinewidth": 0,
            "ticks": ""
           }
          },
          "colorscale": {
           "diverging": [
            [
             0,
             "#8e0152"
            ],
            [
             0.1,
             "#c51b7d"
            ],
            [
             0.2,
             "#de77ae"
            ],
            [
             0.3,
             "#f1b6da"
            ],
            [
             0.4,
             "#fde0ef"
            ],
            [
             0.5,
             "#f7f7f7"
            ],
            [
             0.6,
             "#e6f5d0"
            ],
            [
             0.7,
             "#b8e186"
            ],
            [
             0.8,
             "#7fbc41"
            ],
            [
             0.9,
             "#4d9221"
            ],
            [
             1,
             "#276419"
            ]
           ],
           "sequential": [
            [
             0,
             "#0d0887"
            ],
            [
             0.1111111111111111,
             "#46039f"
            ],
            [
             0.2222222222222222,
             "#7201a8"
            ],
            [
             0.3333333333333333,
             "#9c179e"
            ],
            [
             0.4444444444444444,
             "#bd3786"
            ],
            [
             0.5555555555555556,
             "#d8576b"
            ],
            [
             0.6666666666666666,
             "#ed7953"
            ],
            [
             0.7777777777777778,
             "#fb9f3a"
            ],
            [
             0.8888888888888888,
             "#fdca26"
            ],
            [
             1,
             "#f0f921"
            ]
           ],
           "sequentialminus": [
            [
             0,
             "#0d0887"
            ],
            [
             0.1111111111111111,
             "#46039f"
            ],
            [
             0.2222222222222222,
             "#7201a8"
            ],
            [
             0.3333333333333333,
             "#9c179e"
            ],
            [
             0.4444444444444444,
             "#bd3786"
            ],
            [
             0.5555555555555556,
             "#d8576b"
            ],
            [
             0.6666666666666666,
             "#ed7953"
            ],
            [
             0.7777777777777778,
             "#fb9f3a"
            ],
            [
             0.8888888888888888,
             "#fdca26"
            ],
            [
             1,
             "#f0f921"
            ]
           ]
          },
          "colorway": [
           "#636efa",
           "#EF553B",
           "#00cc96",
           "#ab63fa",
           "#FFA15A",
           "#19d3f3",
           "#FF6692",
           "#B6E880",
           "#FF97FF",
           "#FECB52"
          ],
          "font": {
           "color": "#2a3f5f"
          },
          "geo": {
           "bgcolor": "white",
           "lakecolor": "white",
           "landcolor": "#E5ECF6",
           "showlakes": true,
           "showland": true,
           "subunitcolor": "white"
          },
          "hoverlabel": {
           "align": "left"
          },
          "hovermode": "closest",
          "mapbox": {
           "style": "light"
          },
          "paper_bgcolor": "white",
          "plot_bgcolor": "#E5ECF6",
          "polar": {
           "angularaxis": {
            "gridcolor": "white",
            "linecolor": "white",
            "ticks": ""
           },
           "bgcolor": "#E5ECF6",
           "radialaxis": {
            "gridcolor": "white",
            "linecolor": "white",
            "ticks": ""
           }
          },
          "scene": {
           "xaxis": {
            "backgroundcolor": "#E5ECF6",
            "gridcolor": "white",
            "gridwidth": 2,
            "linecolor": "white",
            "showbackground": true,
            "ticks": "",
            "zerolinecolor": "white"
           },
           "yaxis": {
            "backgroundcolor": "#E5ECF6",
            "gridcolor": "white",
            "gridwidth": 2,
            "linecolor": "white",
            "showbackground": true,
            "ticks": "",
            "zerolinecolor": "white"
           },
           "zaxis": {
            "backgroundcolor": "#E5ECF6",
            "gridcolor": "white",
            "gridwidth": 2,
            "linecolor": "white",
            "showbackground": true,
            "ticks": "",
            "zerolinecolor": "white"
           }
          },
          "shapedefaults": {
           "line": {
            "color": "#2a3f5f"
           }
          },
          "ternary": {
           "aaxis": {
            "gridcolor": "white",
            "linecolor": "white",
            "ticks": ""
           },
           "baxis": {
            "gridcolor": "white",
            "linecolor": "white",
            "ticks": ""
           },
           "bgcolor": "#E5ECF6",
           "caxis": {
            "gridcolor": "white",
            "linecolor": "white",
            "ticks": ""
           }
          },
          "title": {
           "x": 0.05
          },
          "xaxis": {
           "automargin": true,
           "gridcolor": "white",
           "linecolor": "white",
           "ticks": "",
           "title": {
            "standoff": 15
           },
           "zerolinecolor": "white",
           "zerolinewidth": 2
          },
          "yaxis": {
           "automargin": true,
           "gridcolor": "white",
           "linecolor": "white",
           "ticks": "",
           "title": {
            "standoff": 15
           },
           "zerolinecolor": "white",
           "zerolinewidth": 2
          }
         }
        },
        "title": {
         "font": {
          "color": "black",
          "family": "Arial",
          "size": 24
         },
         "text": "LVLM Type Comparison by Layout (Closer to 1 is Better)"
        }
       }
      },
      "text/html": [
       "<div>                            <div id=\"f211c267-d3b6-46be-83d7-f866efb70630\" class=\"plotly-graph-div\" style=\"height:525px; width:100%;\"></div>            <script type=\"text/javascript\">                require([\"plotly\"], function(Plotly) {                    window.PLOTLYENV=window.PLOTLYENV || {};                                    if (document.getElementById(\"f211c267-d3b6-46be-83d7-f866efb70630\")) {                    Plotly.newPlot(                        \"f211c267-d3b6-46be-83d7-f866efb70630\",                        [{\"line\":{\"color\":\"rgba(255, 0, 0, 0.5)\",\"shape\":\"spline\",\"smoothing\":0.0,\"width\":6},\"marker\":{\"color\":\"#3b3b3b\",\"size\":15,\"symbol\":\"circle\"},\"name\":\"claude-3.5-sonnet\",\"opacity\":0.9,\"r\":[0.92,0.86,0.96,0.91,0.72,0.94,0.88,0.92],\"theta\":[\"circular\",\"kamada\",\"random\",\"shell\",\"spectral\",\"spiral\",\"spring\",\"circular\"],\"type\":\"scatterpolar\"},{\"line\":{\"color\":\"rgba(0, 255, 0, 0.5)\",\"shape\":\"spline\",\"smoothing\":0.0,\"width\":6},\"marker\":{\"color\":\"#3b3b3b\",\"size\":15,\"symbol\":\"square\"},\"name\":\"gemini-pro-1.5\",\"opacity\":0.9,\"r\":[0.94,0.93,0.95,0.94,0.72,0.94,0.92,0.94],\"theta\":[\"circular\",\"kamada\",\"random\",\"shell\",\"spectral\",\"spiral\",\"spring\",\"circular\"],\"type\":\"scatterpolar\"},{\"line\":{\"color\":\"rgba(0, 0, 255, 0.5)\",\"shape\":\"spline\",\"smoothing\":0.0,\"width\":6},\"marker\":{\"color\":\"#3b3b3b\",\"size\":15,\"symbol\":\"star\"},\"name\":\"gpt-4o-2024-08-06\",\"opacity\":0.9,\"r\":[0.82,0.92,0.85,0.83,0.8,0.82,0.92,0.82],\"theta\":[\"circular\",\"kamada\",\"random\",\"shell\",\"spectral\",\"spiral\",\"spring\",\"circular\"],\"type\":\"scatterpolar\"},{\"line\":{\"color\":\"#f1c40f\",\"shape\":\"spline\",\"smoothing\":0.0,\"width\":6},\"marker\":{\"color\":\"#3b3b3b\",\"size\":15,\"symbol\":\"pentagon\"},\"name\":\"llama-3.2-90b-vision-instruct\",\"opacity\":0.9,\"r\":[0.87,0.72,0.7,0.91,0.67,0.84,0.68,0.87],\"theta\":[\"circular\",\"kamada\",\"random\",\"shell\",\"spectral\",\"spiral\",\"spring\",\"circular\"],\"type\":\"scatterpolar\"},{\"line\":{\"color\":\"rgba(255, 0, 255, 0.5)\",\"shape\":\"spline\",\"smoothing\":0.0,\"width\":6},\"marker\":{\"color\":\"#3b3b3b\",\"size\":15,\"symbol\":\"x\"},\"name\":\"pixtral-12b\",\"opacity\":0.9,\"r\":[0.81,0.86,0.88,0.76,0.72,0.86,0.84,0.81],\"theta\":[\"circular\",\"kamada\",\"random\",\"shell\",\"spectral\",\"spiral\",\"spring\",\"circular\"],\"type\":\"scatterpolar\"},{\"line\":{\"color\":\"rgba(0, 255, 255, 0.5)\",\"shape\":\"spline\",\"smoothing\":0.0,\"width\":6},\"marker\":{\"color\":\"#3b3b3b\",\"size\":15,\"symbol\":\"star-triangle-up\"},\"name\":\"qwen-2-vl-72b-instruct\",\"opacity\":0.9,\"r\":[0.8,0.87,0.88,0.82,0.79,0.62,0.87,0.8],\"theta\":[\"circular\",\"kamada\",\"random\",\"shell\",\"spectral\",\"spiral\",\"spring\",\"circular\"],\"type\":\"scatterpolar\"}],                        {\"template\":{\"data\":{\"histogram2dcontour\":[{\"type\":\"histogram2dcontour\",\"colorbar\":{\"outlinewidth\":0,\"ticks\":\"\"},\"colorscale\":[[0.0,\"#0d0887\"],[0.1111111111111111,\"#46039f\"],[0.2222222222222222,\"#7201a8\"],[0.3333333333333333,\"#9c179e\"],[0.4444444444444444,\"#bd3786\"],[0.5555555555555556,\"#d8576b\"],[0.6666666666666666,\"#ed7953\"],[0.7777777777777778,\"#fb9f3a\"],[0.8888888888888888,\"#fdca26\"],[1.0,\"#f0f921\"]]}],\"choropleth\":[{\"type\":\"choropleth\",\"colorbar\":{\"outlinewidth\":0,\"ticks\":\"\"}}],\"histogram2d\":[{\"type\":\"histogram2d\",\"colorbar\":{\"outlinewidth\":0,\"ticks\":\"\"},\"colorscale\":[[0.0,\"#0d0887\"],[0.1111111111111111,\"#46039f\"],[0.2222222222222222,\"#7201a8\"],[0.3333333333333333,\"#9c179e\"],[0.4444444444444444,\"#bd3786\"],[0.5555555555555556,\"#d8576b\"],[0.6666666666666666,\"#ed7953\"],[0.7777777777777778,\"#fb9f3a\"],[0.8888888888888888,\"#fdca26\"],[1.0,\"#f0f921\"]]}],\"heatmap\":[{\"type\":\"heatmap\",\"colorbar\":{\"outlinewidth\":0,\"ticks\":\"\"},\"colorscale\":[[0.0,\"#0d0887\"],[0.1111111111111111,\"#46039f\"],[0.2222222222222222,\"#7201a8\"],[0.3333333333333333,\"#9c179e\"],[0.4444444444444444,\"#bd3786\"],[0.5555555555555556,\"#d8576b\"],[0.6666666666666666,\"#ed7953\"],[0.7777777777777778,\"#fb9f3a\"],[0.8888888888888888,\"#fdca26\"],[1.0,\"#f0f921\"]]}],\"heatmapgl\":[{\"type\":\"heatmapgl\",\"colorbar\":{\"outlinewidth\":0,\"ticks\":\"\"},\"colorscale\":[[0.0,\"#0d0887\"],[0.1111111111111111,\"#46039f\"],[0.2222222222222222,\"#7201a8\"],[0.3333333333333333,\"#9c179e\"],[0.4444444444444444,\"#bd3786\"],[0.5555555555555556,\"#d8576b\"],[0.6666666666666666,\"#ed7953\"],[0.7777777777777778,\"#fb9f3a\"],[0.8888888888888888,\"#fdca26\"],[1.0,\"#f0f921\"]]}],\"contourcarpet\":[{\"type\":\"contourcarpet\",\"colorbar\":{\"outlinewidth\":0,\"ticks\":\"\"}}],\"contour\":[{\"type\":\"contour\",\"colorbar\":{\"outlinewidth\":0,\"ticks\":\"\"},\"colorscale\":[[0.0,\"#0d0887\"],[0.1111111111111111,\"#46039f\"],[0.2222222222222222,\"#7201a8\"],[0.3333333333333333,\"#9c179e\"],[0.4444444444444444,\"#bd3786\"],[0.5555555555555556,\"#d8576b\"],[0.6666666666666666,\"#ed7953\"],[0.7777777777777778,\"#fb9f3a\"],[0.8888888888888888,\"#fdca26\"],[1.0,\"#f0f921\"]]}],\"surface\":[{\"type\":\"surface\",\"colorbar\":{\"outlinewidth\":0,\"ticks\":\"\"},\"colorscale\":[[0.0,\"#0d0887\"],[0.1111111111111111,\"#46039f\"],[0.2222222222222222,\"#7201a8\"],[0.3333333333333333,\"#9c179e\"],[0.4444444444444444,\"#bd3786\"],[0.5555555555555556,\"#d8576b\"],[0.6666666666666666,\"#ed7953\"],[0.7777777777777778,\"#fb9f3a\"],[0.8888888888888888,\"#fdca26\"],[1.0,\"#f0f921\"]]}],\"mesh3d\":[{\"type\":\"mesh3d\",\"colorbar\":{\"outlinewidth\":0,\"ticks\":\"\"}}],\"scatter\":[{\"fillpattern\":{\"fillmode\":\"overlay\",\"size\":10,\"solidity\":0.2},\"type\":\"scatter\"}],\"parcoords\":[{\"type\":\"parcoords\",\"line\":{\"colorbar\":{\"outlinewidth\":0,\"ticks\":\"\"}}}],\"scatterpolargl\":[{\"type\":\"scatterpolargl\",\"marker\":{\"colorbar\":{\"outlinewidth\":0,\"ticks\":\"\"}}}],\"bar\":[{\"error_x\":{\"color\":\"#2a3f5f\"},\"error_y\":{\"color\":\"#2a3f5f\"},\"marker\":{\"line\":{\"color\":\"#E5ECF6\",\"width\":0.5},\"pattern\":{\"fillmode\":\"overlay\",\"size\":10,\"solidity\":0.2}},\"type\":\"bar\"}],\"scattergeo\":[{\"type\":\"scattergeo\",\"marker\":{\"colorbar\":{\"outlinewidth\":0,\"ticks\":\"\"}}}],\"scatterpolar\":[{\"type\":\"scatterpolar\",\"marker\":{\"colorbar\":{\"outlinewidth\":0,\"ticks\":\"\"}}}],\"histogram\":[{\"marker\":{\"pattern\":{\"fillmode\":\"overlay\",\"size\":10,\"solidity\":0.2}},\"type\":\"histogram\"}],\"scattergl\":[{\"type\":\"scattergl\",\"marker\":{\"colorbar\":{\"outlinewidth\":0,\"ticks\":\"\"}}}],\"scatter3d\":[{\"type\":\"scatter3d\",\"line\":{\"colorbar\":{\"outlinewidth\":0,\"ticks\":\"\"}},\"marker\":{\"colorbar\":{\"outlinewidth\":0,\"ticks\":\"\"}}}],\"scattermapbox\":[{\"type\":\"scattermapbox\",\"marker\":{\"colorbar\":{\"outlinewidth\":0,\"ticks\":\"\"}}}],\"scatterternary\":[{\"type\":\"scatterternary\",\"marker\":{\"colorbar\":{\"outlinewidth\":0,\"ticks\":\"\"}}}],\"scattercarpet\":[{\"type\":\"scattercarpet\",\"marker\":{\"colorbar\":{\"outlinewidth\":0,\"ticks\":\"\"}}}],\"carpet\":[{\"aaxis\":{\"endlinecolor\":\"#2a3f5f\",\"gridcolor\":\"white\",\"linecolor\":\"white\",\"minorgridcolor\":\"white\",\"startlinecolor\":\"#2a3f5f\"},\"baxis\":{\"endlinecolor\":\"#2a3f5f\",\"gridcolor\":\"white\",\"linecolor\":\"white\",\"minorgridcolor\":\"white\",\"startlinecolor\":\"#2a3f5f\"},\"type\":\"carpet\"}],\"table\":[{\"cells\":{\"fill\":{\"color\":\"#EBF0F8\"},\"line\":{\"color\":\"white\"}},\"header\":{\"fill\":{\"color\":\"#C8D4E3\"},\"line\":{\"color\":\"white\"}},\"type\":\"table\"}],\"barpolar\":[{\"marker\":{\"line\":{\"color\":\"#E5ECF6\",\"width\":0.5},\"pattern\":{\"fillmode\":\"overlay\",\"size\":10,\"solidity\":0.2}},\"type\":\"barpolar\"}],\"pie\":[{\"automargin\":true,\"type\":\"pie\"}]},\"layout\":{\"autotypenumbers\":\"strict\",\"colorway\":[\"#636efa\",\"#EF553B\",\"#00cc96\",\"#ab63fa\",\"#FFA15A\",\"#19d3f3\",\"#FF6692\",\"#B6E880\",\"#FF97FF\",\"#FECB52\"],\"font\":{\"color\":\"#2a3f5f\"},\"hovermode\":\"closest\",\"hoverlabel\":{\"align\":\"left\"},\"paper_bgcolor\":\"white\",\"plot_bgcolor\":\"#E5ECF6\",\"polar\":{\"bgcolor\":\"#E5ECF6\",\"angularaxis\":{\"gridcolor\":\"white\",\"linecolor\":\"white\",\"ticks\":\"\"},\"radialaxis\":{\"gridcolor\":\"white\",\"linecolor\":\"white\",\"ticks\":\"\"}},\"ternary\":{\"bgcolor\":\"#E5ECF6\",\"aaxis\":{\"gridcolor\":\"white\",\"linecolor\":\"white\",\"ticks\":\"\"},\"baxis\":{\"gridcolor\":\"white\",\"linecolor\":\"white\",\"ticks\":\"\"},\"caxis\":{\"gridcolor\":\"white\",\"linecolor\":\"white\",\"ticks\":\"\"}},\"coloraxis\":{\"colorbar\":{\"outlinewidth\":0,\"ticks\":\"\"}},\"colorscale\":{\"sequential\":[[0.0,\"#0d0887\"],[0.1111111111111111,\"#46039f\"],[0.2222222222222222,\"#7201a8\"],[0.3333333333333333,\"#9c179e\"],[0.4444444444444444,\"#bd3786\"],[0.5555555555555556,\"#d8576b\"],[0.6666666666666666,\"#ed7953\"],[0.7777777777777778,\"#fb9f3a\"],[0.8888888888888888,\"#fdca26\"],[1.0,\"#f0f921\"]],\"sequentialminus\":[[0.0,\"#0d0887\"],[0.1111111111111111,\"#46039f\"],[0.2222222222222222,\"#7201a8\"],[0.3333333333333333,\"#9c179e\"],[0.4444444444444444,\"#bd3786\"],[0.5555555555555556,\"#d8576b\"],[0.6666666666666666,\"#ed7953\"],[0.7777777777777778,\"#fb9f3a\"],[0.8888888888888888,\"#fdca26\"],[1.0,\"#f0f921\"]],\"diverging\":[[0,\"#8e0152\"],[0.1,\"#c51b7d\"],[0.2,\"#de77ae\"],[0.3,\"#f1b6da\"],[0.4,\"#fde0ef\"],[0.5,\"#f7f7f7\"],[0.6,\"#e6f5d0\"],[0.7,\"#b8e186\"],[0.8,\"#7fbc41\"],[0.9,\"#4d9221\"],[1,\"#276419\"]]},\"xaxis\":{\"gridcolor\":\"white\",\"linecolor\":\"white\",\"ticks\":\"\",\"title\":{\"standoff\":15},\"zerolinecolor\":\"white\",\"automargin\":true,\"zerolinewidth\":2},\"yaxis\":{\"gridcolor\":\"white\",\"linecolor\":\"white\",\"ticks\":\"\",\"title\":{\"standoff\":15},\"zerolinecolor\":\"white\",\"automargin\":true,\"zerolinewidth\":2},\"scene\":{\"xaxis\":{\"backgroundcolor\":\"#E5ECF6\",\"gridcolor\":\"white\",\"linecolor\":\"white\",\"showbackground\":true,\"ticks\":\"\",\"zerolinecolor\":\"white\",\"gridwidth\":2},\"yaxis\":{\"backgroundcolor\":\"#E5ECF6\",\"gridcolor\":\"white\",\"linecolor\":\"white\",\"showbackground\":true,\"ticks\":\"\",\"zerolinecolor\":\"white\",\"gridwidth\":2},\"zaxis\":{\"backgroundcolor\":\"#E5ECF6\",\"gridcolor\":\"white\",\"linecolor\":\"white\",\"showbackground\":true,\"ticks\":\"\",\"zerolinecolor\":\"white\",\"gridwidth\":2}},\"shapedefaults\":{\"line\":{\"color\":\"#2a3f5f\"}},\"annotationdefaults\":{\"arrowcolor\":\"#2a3f5f\",\"arrowhead\":0,\"arrowwidth\":1},\"geo\":{\"bgcolor\":\"white\",\"landcolor\":\"#E5ECF6\",\"subunitcolor\":\"white\",\"showland\":true,\"showlakes\":true,\"lakecolor\":\"white\"},\"title\":{\"x\":0.05},\"mapbox\":{\"style\":\"light\"}}},\"title\":{\"font\":{\"size\":24,\"family\":\"Arial\",\"color\":\"black\"},\"text\":\"LVLM Type Comparison by Layout (Closer to 1 is Better)\"},\"polar\":{\"angularaxis\":{\"tickfont\":{\"size\":27},\"gridcolor\":\"gray\",\"gridwidth\":2,\"griddash\":\"solid\"},\"radialaxis\":{\"tickfont\":{\"size\":24},\"gridcolor\":\"gray\",\"gridwidth\":2,\"griddash\":\"solid\",\"range\":[0.62,1],\"dtick\":0.05},\"bgcolor\":\"white\"},\"legend\":{\"font\":{\"size\":24}}},                        {\"responsive\": true}                    ).then(function(){\n",
       "                            \n",
       "var gd = document.getElementById('f211c267-d3b6-46be-83d7-f866efb70630');\n",
       "var x = new MutationObserver(function (mutations, observer) {{\n",
       "        var display = window.getComputedStyle(gd).display;\n",
       "        if (!display || display === 'none') {{\n",
       "            console.log([gd, 'removed!']);\n",
       "            Plotly.purge(gd);\n",
       "            observer.disconnect();\n",
       "        }}\n",
       "}});\n",
       "\n",
       "// Listen for the removal of the full notebook cells\n",
       "var notebookContainer = gd.closest('#notebook-container');\n",
       "if (notebookContainer) {{\n",
       "    x.observe(notebookContainer, {childList: true});\n",
       "}}\n",
       "\n",
       "// Listen for the clearing of the current output cell\n",
       "var outputEl = gd.closest('.output');\n",
       "if (outputEl) {{\n",
       "    x.observe(outputEl, {childList: true});\n",
       "}}\n",
       "\n",
       "                        })                };                });            </script>        </div>"
      ]
     },
     "metadata": {},
     "output_type": "display_data"
    }
   ],
   "source": [
    "import pandas as pd\n",
    "import plotly.graph_objects as go\n",
    "\n",
    "# Leer los datos\n",
    "df = pd.read_csv('comparacion_por_layout.csv')\n",
    "\n",
    "\n",
    "# Crea una lista ordenada de layouts únicos (esto es la clave)\n",
    "df_layouts = sorted(df['layout'].unique())\n",
    "\n",
    "\n",
    "# Crear el gráfico\n",
    "fig = go.Figure()\n",
    "\n",
    "# Obtener los modelos únicos\n",
    "modelos = df['model'].unique()\n",
    "\n",
    "# Añadir una traza para cada modelo\n",
    "\n",
    "colors = [\n",
    "    'rgba(255, 0, 0, 0.5)',    # Rojo\n",
    "    'rgba(0, 255, 0, 0.5)',    # Verde\n",
    "    'rgba(0, 0, 255, 0.5)',    # Azul\n",
    "    '#f1c40f',  # Amarillo\n",
    "    'rgba(255, 0, 255, 0.5)',  # Magenta\n",
    "    'rgba(0, 255, 255, 0.5)'   # Cian\n",
    "]\n",
    "dash_styles = ['solid', 'dash', 'dashdot', 'dot', 'longdash', 'longdashdot']\n",
    "simbolos = ['circle', 'square', 'star', 'pentagon', 'x', 'star-triangle-up', 'cross']\n",
    "\n",
    "for i, modelo in enumerate(modelos):\n",
    "    df_modelo = df[(df['model'] == modelo)]\n",
    "\n",
    "    # Ordena df_modelo según la lista ordenada de layouts\n",
    "    df_modelo = df_modelo.set_index('layout').reindex(df_layouts).reset_index()\n",
    "\n",
    "    df_modelo = pd.concat([df_modelo, df_modelo.iloc[[0]]])\n",
    "    fig.add_trace(go.Scatterpolar(\n",
    "        r=df_modelo['mean_similarity'],\n",
    "        theta=df_modelo['layout'],\n",
    "        #fill='toself',\n",
    "        opacity=0.9,\n",
    "        name=modelo,\n",
    "        #line_width=6,\n",
    "        line=dict(shape='spline', smoothing=0.0, color=colors[i], width=6),  # Líneas curvas\n",
    "        #mode='lines+markers',\n",
    "         marker=dict(\n",
    "            color=\"#3b3b3b\", symbol=simbolos[i],  size=15\n",
    "        )\n",
    "    ))\n",
    "# Actualizar el diseño\n",
    "fig.update_layout(\n",
    "    title=dict(\n",
    "        text=\"LVLM Type Comparison by Layout (Closer to 1 is Better)\",\n",
    "        font=dict(\n",
    "            size=24,  # Tamaño del título\n",
    "            family=\"Arial\",  # Tipo de fuente\n",
    "            color=\"black\",   \n",
    "        ),\n",
    "    ),\n",
    "    polar=dict(\n",
    "         bgcolor=\"white\",\n",
    "         angularaxis=dict(\n",
    "            gridcolor=\"gray\",  # Color de las líneas angulares\n",
    "            gridwidth=2,\n",
    "            griddash=\"solid\",\n",
    "            tickfont=dict(size=27),    # Estilo de las líneas angulares\n",
    "        ),\n",
    "        radialaxis=dict(\n",
    "            gridcolor=\"gray\",  # Color de las líneas radiales\n",
    "            gridwidth=2,\n",
    "            griddash=\"solid\",\n",
    "            range=[min(df_modelo['mean_similarity']),1],\n",
    "            dtick=0.05,  # Incremento de los ticks\n",
    "            tickfont=dict(size=24),  # Estilo de las líneas radiales\n",
    "        )\n",
    "    ),\n",
    "    legend=dict(\n",
    "        font=dict(size=24),  # Tamaño del texto de la leyenda\n",
    "    ),\n",
    " \n",
    ")\n",
    "\n",
    "fig.show()\n",
    "fig.write_image(\"imagen.jpg\", width=1200, height=900, scale=2)\n"
   ]
  }
 ],
 "metadata": {
  "kernelspec": {
   "display_name": "Python 3",
   "language": "python",
   "name": "python3"
  },
  "language_info": {
   "codemirror_mode": {
    "name": "ipython",
    "version": 3
   },
   "file_extension": ".py",
   "mimetype": "text/x-python",
   "name": "python",
   "nbconvert_exporter": "python",
   "pygments_lexer": "ipython3",
   "version": "3.11.9"
  }
 },
 "nbformat": 4,
 "nbformat_minor": 2
}
